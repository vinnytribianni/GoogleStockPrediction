{
 "cells": [
  {
   "cell_type": "markdown",
   "id": "7f04b729-5b74-419a-98d1-29e976768b65",
   "metadata": {},
   "source": [
    "# Google Stock Price Prediction"
   ]
  },
  {
   "cell_type": "code",
   "execution_count": 1,
   "id": "217122b6-fe69-4894-858b-ebe20385e532",
   "metadata": {},
   "outputs": [],
   "source": [
    "import math\n",
    "import numpy as np\n",
    "import pandas as pd\n",
    "from sklearn.preprocessing import MinMaxScaler\n",
    "import matplotlib.pyplot as plt\n",
    "import tensorflow\n",
    "from tensorflow.keras.models import Sequential, load_model\n",
    "from tensorflow.keras.layers import Dense, LSTM, Input\n",
    "from sklearn.metrics import r2_score, mean_squared_error, mean_absolute_error\n",
    "from datetime import datetime, timedelta\n",
    "import torch\n",
    "import yfinance as yf\n"
   ]
  },
  {
   "cell_type": "markdown",
   "id": "ea9f067d-10c3-4a75-9965-fcc9173ed9aa",
   "metadata": {},
   "source": [
    "## Data Collection"
   ]
  },
  {
   "cell_type": "code",
   "execution_count": 2,
   "id": "11b2ac42-f069-4c52-8b9c-c556f56cc92f",
   "metadata": {},
   "outputs": [
    {
     "name": "stderr",
     "output_type": "stream",
     "text": [
      "[*********************100%%**********************]  1 of 1 completed\n"
     ]
    },
    {
     "data": {
      "text/html": [
       "<div>\n",
       "<style scoped>\n",
       "    .dataframe tbody tr th:only-of-type {\n",
       "        vertical-align: middle;\n",
       "    }\n",
       "\n",
       "    .dataframe tbody tr th {\n",
       "        vertical-align: top;\n",
       "    }\n",
       "\n",
       "    .dataframe thead th {\n",
       "        text-align: right;\n",
       "    }\n",
       "</style>\n",
       "<table border=\"1\" class=\"dataframe\">\n",
       "  <thead>\n",
       "    <tr style=\"text-align: right;\">\n",
       "      <th></th>\n",
       "      <th>Open</th>\n",
       "      <th>High</th>\n",
       "      <th>Low</th>\n",
       "      <th>Close</th>\n",
       "      <th>Adj Close</th>\n",
       "      <th>Volume</th>\n",
       "    </tr>\n",
       "    <tr>\n",
       "      <th>Date</th>\n",
       "      <th></th>\n",
       "      <th></th>\n",
       "      <th></th>\n",
       "      <th></th>\n",
       "      <th></th>\n",
       "      <th></th>\n",
       "    </tr>\n",
       "  </thead>\n",
       "  <tbody>\n",
       "    <tr>\n",
       "      <th>2004-08-19</th>\n",
       "      <td>2.490664</td>\n",
       "      <td>2.591785</td>\n",
       "      <td>2.390042</td>\n",
       "      <td>2.499133</td>\n",
       "      <td>2.496292</td>\n",
       "      <td>897427216</td>\n",
       "    </tr>\n",
       "    <tr>\n",
       "      <th>2004-08-20</th>\n",
       "      <td>2.515820</td>\n",
       "      <td>2.716817</td>\n",
       "      <td>2.503118</td>\n",
       "      <td>2.697639</td>\n",
       "      <td>2.694573</td>\n",
       "      <td>458857488</td>\n",
       "    </tr>\n",
       "    <tr>\n",
       "      <th>2004-08-23</th>\n",
       "      <td>2.758411</td>\n",
       "      <td>2.826406</td>\n",
       "      <td>2.716070</td>\n",
       "      <td>2.724787</td>\n",
       "      <td>2.721690</td>\n",
       "      <td>366857939</td>\n",
       "    </tr>\n",
       "    <tr>\n",
       "      <th>2004-08-24</th>\n",
       "      <td>2.770615</td>\n",
       "      <td>2.779581</td>\n",
       "      <td>2.579581</td>\n",
       "      <td>2.611960</td>\n",
       "      <td>2.608991</td>\n",
       "      <td>306396159</td>\n",
       "    </tr>\n",
       "    <tr>\n",
       "      <th>2004-08-25</th>\n",
       "      <td>2.614201</td>\n",
       "      <td>2.689918</td>\n",
       "      <td>2.587302</td>\n",
       "      <td>2.640104</td>\n",
       "      <td>2.637103</td>\n",
       "      <td>184645512</td>\n",
       "    </tr>\n",
       "    <tr>\n",
       "      <th>...</th>\n",
       "      <td>...</td>\n",
       "      <td>...</td>\n",
       "      <td>...</td>\n",
       "      <td>...</td>\n",
       "      <td>...</td>\n",
       "      <td>...</td>\n",
       "    </tr>\n",
       "    <tr>\n",
       "      <th>2024-06-24</th>\n",
       "      <td>181.279999</td>\n",
       "      <td>182.080002</td>\n",
       "      <td>180.229996</td>\n",
       "      <td>180.789993</td>\n",
       "      <td>180.789993</td>\n",
       "      <td>18198300</td>\n",
       "    </tr>\n",
       "    <tr>\n",
       "      <th>2024-06-25</th>\n",
       "      <td>181.145004</td>\n",
       "      <td>185.750000</td>\n",
       "      <td>181.104996</td>\n",
       "      <td>185.580002</td>\n",
       "      <td>185.580002</td>\n",
       "      <td>18917700</td>\n",
       "    </tr>\n",
       "    <tr>\n",
       "      <th>2024-06-26</th>\n",
       "      <td>184.199997</td>\n",
       "      <td>185.929993</td>\n",
       "      <td>183.990005</td>\n",
       "      <td>185.369995</td>\n",
       "      <td>185.369995</td>\n",
       "      <td>13375700</td>\n",
       "    </tr>\n",
       "    <tr>\n",
       "      <th>2024-06-27</th>\n",
       "      <td>185.645004</td>\n",
       "      <td>187.500000</td>\n",
       "      <td>185.449997</td>\n",
       "      <td>186.860001</td>\n",
       "      <td>186.860001</td>\n",
       "      <td>13025700</td>\n",
       "    </tr>\n",
       "    <tr>\n",
       "      <th>2024-06-28</th>\n",
       "      <td>185.720001</td>\n",
       "      <td>186.580002</td>\n",
       "      <td>183.324997</td>\n",
       "      <td>183.419998</td>\n",
       "      <td>183.419998</td>\n",
       "      <td>23032400</td>\n",
       "    </tr>\n",
       "  </tbody>\n",
       "</table>\n",
       "<p>4999 rows × 6 columns</p>\n",
       "</div>"
      ],
      "text/plain": [
       "                  Open        High         Low       Close   Adj Close  \\\n",
       "Date                                                                     \n",
       "2004-08-19    2.490664    2.591785    2.390042    2.499133    2.496292   \n",
       "2004-08-20    2.515820    2.716817    2.503118    2.697639    2.694573   \n",
       "2004-08-23    2.758411    2.826406    2.716070    2.724787    2.721690   \n",
       "2004-08-24    2.770615    2.779581    2.579581    2.611960    2.608991   \n",
       "2004-08-25    2.614201    2.689918    2.587302    2.640104    2.637103   \n",
       "...                ...         ...         ...         ...         ...   \n",
       "2024-06-24  181.279999  182.080002  180.229996  180.789993  180.789993   \n",
       "2024-06-25  181.145004  185.750000  181.104996  185.580002  185.580002   \n",
       "2024-06-26  184.199997  185.929993  183.990005  185.369995  185.369995   \n",
       "2024-06-27  185.645004  187.500000  185.449997  186.860001  186.860001   \n",
       "2024-06-28  185.720001  186.580002  183.324997  183.419998  183.419998   \n",
       "\n",
       "               Volume  \n",
       "Date                   \n",
       "2004-08-19  897427216  \n",
       "2004-08-20  458857488  \n",
       "2004-08-23  366857939  \n",
       "2004-08-24  306396159  \n",
       "2004-08-25  184645512  \n",
       "...               ...  \n",
       "2024-06-24   18198300  \n",
       "2024-06-25   18917700  \n",
       "2024-06-26   13375700  \n",
       "2024-06-27   13025700  \n",
       "2024-06-28   23032400  \n",
       "\n",
       "[4999 rows x 6 columns]"
      ]
     },
     "execution_count": 2,
     "metadata": {},
     "output_type": "execute_result"
    }
   ],
   "source": [
    "# Retrieving data from Yahoo Finance API\n",
    "\n",
    "ticker = \"GOOG\"\n",
    "df = yf.download(ticker, start='2000-01-01', end='2024-06-30')\n",
    "df"
   ]
  },
  {
   "cell_type": "code",
   "execution_count": 3,
   "id": "d347789f-c199-470a-91d3-169cf3d62233",
   "metadata": {},
   "outputs": [
    {
     "data": {
      "text/plain": [
       "<function matplotlib.pyplot.show(close=None, block=None)>"
      ]
     },
     "execution_count": 3,
     "metadata": {},
     "output_type": "execute_result"
    },
    {
     "data": {
      "image/png": "[encoded data removed]",
      "text/plain": [
       "<Figure size 1600x800 with 1 Axes>"
      ]
     },
     "metadata": {},
     "output_type": "display_data"
    }
   ],
   "source": [
    "plt.figure(figsize=(16,8))\n",
    "plt.title('Close Price Movement')\n",
    "plt.plot(df['Close'])\n",
    "plt.xlabel('Date', fontsize=18)\n",
    "plt.ylabel('Close Price in $', fontsize=18)\n",
    "plt.show"
   ]
  },
  {
   "cell_type": "code",
   "execution_count": 4,
   "id": "2b0c341d-8121-4655-a51a-3b43a3a36f3d",
   "metadata": {},
   "outputs": [
    {
     "data": {
      "text/plain": [
       "4999"
      ]
     },
     "execution_count": 4,
     "metadata": {},
     "output_type": "execute_result"
    }
   ],
   "source": [
    "# Filtering target values from dataset\n",
    "\n",
    "data = df.filter(['Close'])\n",
    "dataset = data.values\n",
    "len(dataset)"
   ]
  },
  {
   "cell_type": "code",
   "execution_count": 5,
   "id": "399076ad-dcb2-40c7-ab96-cb1420bf3eb3",
   "metadata": {},
   "outputs": [
    {
     "data": {
      "text/plain": [
       "3500"
      ]
     },
     "execution_count": 5,
     "metadata": {},
     "output_type": "execute_result"
    }
   ],
   "source": [
    "# 70% of db will be for training\n",
    "\n",
    "training_data_size = math.ceil(len(dataset)*.70)\n",
    "training_data_size"
   ]
  },
  {
   "cell_type": "markdown",
   "id": "032c1f60-cc53-4d18-8a62-e3442a1ad687",
   "metadata": {},
   "source": [
    "## Scaling and Preprocessing"
   ]
  },
  {
   "cell_type": "code",
   "execution_count": 6,
   "id": "dc76e158-e56d-430e-86e2-c8552762d48b",
   "metadata": {},
   "outputs": [
    {
     "data": {
      "text/plain": [
       "array([[4.45855424e-05],\n",
       "       [1.12126212e-03],\n",
       "       [1.26851028e-03],\n",
       "       ...,\n",
       "       [9.91918355e-01],\n",
       "       [1.00000000e+00],\n",
       "       [9.81341761e-01]])"
      ]
     },
     "execution_count": 6,
     "metadata": {},
     "output_type": "execute_result"
    }
   ],
   "source": [
    "# Scaling\n",
    "\n",
    "scaler = MinMaxScaler(feature_range=(0,1))\n",
    "scaled_data = scaler.fit_transform(dataset)\n",
    "scaled_data"
   ]
  },
  {
   "cell_type": "code",
   "execution_count": 7,
   "id": "3e8bba20-2a93-449a-9186-6ab8aa581e68",
   "metadata": {},
   "outputs": [
    {
     "name": "stdout",
     "output_type": "stream",
     "text": [
      "[array([4.45855424e-05, 1.12126212e-03, 1.26851028e-03, 6.56547263e-04,\n",
      "       8.09198239e-04, 1.06722358e-03, 8.29462044e-04, 2.70186214e-04,\n",
      "       3.18818052e-04, 3.24246734e-05, 2.02638044e-04, 0.00000000e+00,\n",
      "       2.12096210e-04, 3.09363765e-04, 3.10713823e-04, 7.18688735e-04,\n",
      "       1.01183499e-03, 1.55085219e-03, 1.61974654e-03, 1.88587482e-03,\n",
      "       2.36139919e-03, 2.61401784e-03, 2.40867968e-03, 2.48162549e-03,\n",
      "       2.81125306e-03, 2.67751066e-03, 2.46541962e-03, 3.62720289e-03,\n",
      "       4.19728823e-03, 3.99735160e-03, 4.39992499e-03, 4.73494761e-03,\n",
      "       5.18210008e-03, 5.00783524e-03, 5.24694296e-03, 5.09564333e-03,\n",
      "       4.76196947e-03, 5.05106426e-03, 5.52388205e-03, 5.67248026e-03,\n",
      "       5.95752358e-03, 6.63973618e-03, 6.47492563e-03, 5.46849346e-03,\n",
      "       6.66945427e-03, 9.78331046e-03, 1.18056226e-02, 1.10491142e-02,\n",
      "       1.16124453e-02, 1.26026613e-02, 1.22433208e-02, 1.29714599e-02,\n",
      "       1.28147575e-02, 1.23824621e-02, 1.14408767e-02, 9.36722615e-03,\n",
      "       9.79951633e-03, 9.27942064e-03, 9.16594075e-03, 1.12139247e-02])]\n",
      "[0.011076130839063414]\n"
     ]
    }
   ],
   "source": [
    "train_data = scaled_data[0:training_data_size, :]\n",
    "X_train = []\n",
    "y_train = []\n",
    "for i in range(60, len(train_data)):\n",
    "    X_train.append(train_data[i-60:i, 0])\n",
    "    y_train.append(train_data[i, 0])\n",
    "    if i<=60:\n",
    "        print(X_train)\n",
    "        print(y_train)\n",
    "        "
   ]
  },
  {
   "cell_type": "code",
   "execution_count": 8,
   "id": "f9a990b0-7d90-4a2a-83bc-d03437db78fc",
   "metadata": {},
   "outputs": [
    {
     "data": {
      "text/plain": [
       "(3440, 60, 1)"
      ]
     },
     "execution_count": 8,
     "metadata": {},
     "output_type": "execute_result"
    }
   ],
   "source": [
    "X_train, y_train = np.array(X_train), np.array(y_train)\n",
    "X_train = np.reshape(X_train, (X_train.shape[0], X_train.shape[1], 1))\n",
    "X_train.shape"
   ]
  },
  {
   "cell_type": "markdown",
   "id": "737ce653-7a98-4924-88dc-53d658bdefd6",
   "metadata": {},
   "source": [
    "## LSTM Neural Network"
   ]
  },
  {
   "cell_type": "code",
   "execution_count": 9,
   "id": "9a8b8860-549b-4aca-97d2-0ecdd15c63fe",
   "metadata": {},
   "outputs": [],
   "source": [
    "model = Sequential()\n",
    "model.add(Input(shape=(X_train.shape[1], 1)))\n",
    "model.add(LSTM(50, return_sequences=True))\n",
    "model.add(LSTM(50, return_sequences=False))\n",
    "model.add(Dense(25))\n",
    "model.add(Dense(1))"
   ]
  },
  {
   "cell_type": "code",
   "execution_count": 10,
   "id": "61f73a2f-eb17-42ba-95cf-84ab9a8f5fee",
   "metadata": {},
   "outputs": [],
   "source": [
    "model.compile(optimizer='adam', loss='mean_squared_error')"
   ]
  },
  {
   "cell_type": "code",
   "execution_count": 11,
   "id": "f4274037-2cf5-491b-97ae-af2444981269",
   "metadata": {},
   "outputs": [
    {
     "name": "stdout",
     "output_type": "stream",
     "text": [
      "\u001b[1m3440/3440\u001b[0m \u001b[32m━━━━━━━━━━━━━━━━━━━━\u001b[0m\u001b[37m\u001b[0m \u001b[1m34s\u001b[0m 10ms/step - loss: 2.6458e-04\n"
     ]
    },
    {
     "data": {
      "text/plain": [
       "<keras.src.callbacks.history.History at 0x287473350>"
      ]
     },
     "execution_count": 11,
     "metadata": {},
     "output_type": "execute_result"
    }
   ],
   "source": [
    "model.fit(X_train, y_train, batch_size=1, epochs=1)"
   ]
  },
  {
   "cell_type": "code",
   "execution_count": 12,
   "id": "c8964d3d-6193-4b00-8a65-d20d3685d80d",
   "metadata": {},
   "outputs": [],
   "source": [
    "test_data = scaled_data[training_data_size - 60: ,:]\n",
    "X_test = []\n",
    "y_test = dataset[training_data_size:, :]\n",
    "for i in range(60, len(test_data)):\n",
    "    X_test.append(test_data[i-60:i, 0])\n",
    "    "
   ]
  },
  {
   "cell_type": "code",
   "execution_count": 13,
   "id": "fbcc65b4-f622-41f1-8fe7-4aa1da8adeb7",
   "metadata": {},
   "outputs": [],
   "source": [
    "X_test = np.array(X_test)"
   ]
  },
  {
   "cell_type": "code",
   "execution_count": 14,
   "id": "53a8105c-2c1c-474f-9e10-df1ccea41779",
   "metadata": {},
   "outputs": [],
   "source": [
    "X_test = np.reshape(X_test, (X_test.shape[0], X_test.shape[1],1))"
   ]
  },
  {
   "cell_type": "code",
   "execution_count": 15,
   "id": "eea78039-55b8-4286-a480-50d0253bfb31",
   "metadata": {},
   "outputs": [
    {
     "name": "stdout",
     "output_type": "stream",
     "text": [
      "\u001b[1m47/47\u001b[0m \u001b[32m━━━━━━━━━━━━━━━━━━━━\u001b[0m\u001b[37m\u001b[0m \u001b[1m1s\u001b[0m 9ms/step\n"
     ]
    }
   ],
   "source": [
    "predictions = model.predict(X_test)\n",
    "predictions = scaler.inverse_transform(predictions)"
   ]
  },
  {
   "cell_type": "markdown",
   "id": "de8a0206-b40a-44f6-9052-4f3c72fa3eb6",
   "metadata": {},
   "source": [
    "## Model Results"
   ]
  },
  {
   "cell_type": "code",
   "execution_count": 16,
   "id": "54410d57-2995-4a41-9a84-80f05c97e9e1",
   "metadata": {},
   "outputs": [
    {
     "name": "stdout",
     "output_type": "stream",
     "text": [
      "RMSE: 1.2164205101985308\n"
     ]
    }
   ],
   "source": [
    "rmse = np.sqrt(np.mean(predictions - y_test)**2)\n",
    "print(f'RMSE: {rmse}')"
   ]
  },
  {
   "cell_type": "code",
   "execution_count": 17,
   "id": "94f5254f-59d1-433f-9d27-c40c0acaf742",
   "metadata": {},
   "outputs": [
    {
     "name": "stdout",
     "output_type": "stream",
     "text": [
      "R2 Score: 0.9890590456605557\n"
     ]
    }
   ],
   "source": [
    "r2 = r2_score(y_test, predictions)\n",
    "print(f'R2 Score: {r2}')"
   ]
  },
  {
   "cell_type": "code",
   "execution_count": 18,
   "id": "ad4fad49-0f26-4432-b819-c91148067156",
   "metadata": {},
   "outputs": [
    {
     "name": "stderr",
     "output_type": "stream",
     "text": [
      "/var/folders/hp/th34z1tx09z2w9h79rlbbxj00000gn/T/ipykernel_8509/1061345655.py:3: SettingWithCopyWarning: \n",
      "A value is trying to be set on a copy of a slice from a DataFrame.\n",
      "Try using .loc[row_indexer,col_indexer] = value instead\n",
      "\n",
      "See the caveats in the documentation: https://pandas.pydata.org/pandas-docs/stable/user_guide/indexing.html#returning-a-view-versus-a-copy\n",
      "  valid.loc[:, 'predictions'] = predictions\n"
     ]
    },
    {
     "data": {
      "text/plain": [
       "<function matplotlib.pyplot.show(close=None, block=None)>"
      ]
     },
     "execution_count": 18,
     "metadata": {},
     "output_type": "execute_result"
    },
    {
     "data": {
      "image/png": "[encoded data removed]",
      "text/plain": [
       "<Figure size 1600x800 with 1 Axes>"
      ]
     },
     "metadata": {},
     "output_type": "display_data"
    }
   ],
   "source": [
    "train = data[:training_data_size]\n",
    "valid = data[training_data_size:]\n",
    "valid.loc[:, 'predictions'] = predictions\n",
    "\n",
    "plt.figure(figsize=(16,8))\n",
    "plt.title('Model LM')\n",
    "plt.xlabel('Date', fontsize=18)\n",
    "plt.ylabel('Close Price in $', fontsize=18)\n",
    "plt.plot(train['Close'])\n",
    "plt.plot(valid[['Close', 'predictions']])\n",
    "plt.legend(['Train','Val','predictions'], loc='lower right')\n",
    "plt.show"
   ]
  },
  {
   "cell_type": "code",
   "execution_count": 19,
   "id": "fcd17311-08c7-42d2-8a18-244e814b0217",
   "metadata": {},
   "outputs": [
    {
     "data": {
      "text/html": [
       "<div>\n",
       "<style scoped>\n",
       "    .dataframe tbody tr th:only-of-type {\n",
       "        vertical-align: middle;\n",
       "    }\n",
       "\n",
       "    .dataframe tbody tr th {\n",
       "        vertical-align: top;\n",
       "    }\n",
       "\n",
       "    .dataframe thead th {\n",
       "        text-align: right;\n",
       "    }\n",
       "</style>\n",
       "<table border=\"1\" class=\"dataframe\">\n",
       "  <thead>\n",
       "    <tr style=\"text-align: right;\">\n",
       "      <th></th>\n",
       "      <th>Close</th>\n",
       "      <th>predictions</th>\n",
       "    </tr>\n",
       "    <tr>\n",
       "      <th>Date</th>\n",
       "      <th></th>\n",
       "      <th></th>\n",
       "    </tr>\n",
       "  </thead>\n",
       "  <tbody>\n",
       "    <tr>\n",
       "      <th>2018-07-16</th>\n",
       "      <td>59.193001</td>\n",
       "      <td>59.875637</td>\n",
       "    </tr>\n",
       "    <tr>\n",
       "      <th>2018-07-17</th>\n",
       "      <td>59.939999</td>\n",
       "      <td>60.270847</td>\n",
       "    </tr>\n",
       "    <tr>\n",
       "      <th>2018-07-18</th>\n",
       "      <td>59.793999</td>\n",
       "      <td>60.681107</td>\n",
       "    </tr>\n",
       "    <tr>\n",
       "      <th>2018-07-19</th>\n",
       "      <td>59.348000</td>\n",
       "      <td>61.024521</td>\n",
       "    </tr>\n",
       "    <tr>\n",
       "      <th>2018-07-20</th>\n",
       "      <td>59.245499</td>\n",
       "      <td>61.236271</td>\n",
       "    </tr>\n",
       "    <tr>\n",
       "      <th>...</th>\n",
       "      <td>...</td>\n",
       "      <td>...</td>\n",
       "    </tr>\n",
       "    <tr>\n",
       "      <th>2024-06-24</th>\n",
       "      <td>180.789993</td>\n",
       "      <td>173.239792</td>\n",
       "    </tr>\n",
       "    <tr>\n",
       "      <th>2024-06-25</th>\n",
       "      <td>185.580002</td>\n",
       "      <td>173.674637</td>\n",
       "    </tr>\n",
       "    <tr>\n",
       "      <th>2024-06-26</th>\n",
       "      <td>185.369995</td>\n",
       "      <td>174.684433</td>\n",
       "    </tr>\n",
       "    <tr>\n",
       "      <th>2024-06-27</th>\n",
       "      <td>186.860001</td>\n",
       "      <td>175.728714</td>\n",
       "    </tr>\n",
       "    <tr>\n",
       "      <th>2024-06-28</th>\n",
       "      <td>183.419998</td>\n",
       "      <td>176.831299</td>\n",
       "    </tr>\n",
       "  </tbody>\n",
       "</table>\n",
       "<p>1499 rows × 2 columns</p>\n",
       "</div>"
      ],
      "text/plain": [
       "                 Close  predictions\n",
       "Date                               \n",
       "2018-07-16   59.193001    59.875637\n",
       "2018-07-17   59.939999    60.270847\n",
       "2018-07-18   59.793999    60.681107\n",
       "2018-07-19   59.348000    61.024521\n",
       "2018-07-20   59.245499    61.236271\n",
       "...                ...          ...\n",
       "2024-06-24  180.789993   173.239792\n",
       "2024-06-25  185.580002   173.674637\n",
       "2024-06-26  185.369995   174.684433\n",
       "2024-06-27  186.860001   175.728714\n",
       "2024-06-28  183.419998   176.831299\n",
       "\n",
       "[1499 rows x 2 columns]"
      ]
     },
     "execution_count": 19,
     "metadata": {},
     "output_type": "execute_result"
    }
   ],
   "source": [
    "valid"
   ]
  },
  {
   "cell_type": "markdown",
   "id": "5b93ee4e-3170-4ec5-b0e0-7c80c01e8af5",
   "metadata": {},
   "source": [
    "## Prediction based on 5 day lookback"
   ]
  },
  {
   "cell_type": "code",
   "execution_count": 20,
   "id": "53e2cd8c-c25f-4970-a0cd-c787c827cbfc",
   "metadata": {},
   "outputs": [
    {
     "name": "stderr",
     "output_type": "stream",
     "text": [
      "[*********************100%%**********************]  1 of 1 completed\n"
     ]
    },
    {
     "data": {
      "text/html": [
       "<div>\n",
       "<style scoped>\n",
       "    .dataframe tbody tr th:only-of-type {\n",
       "        vertical-align: middle;\n",
       "    }\n",
       "\n",
       "    .dataframe tbody tr th {\n",
       "        vertical-align: top;\n",
       "    }\n",
       "\n",
       "    .dataframe thead th {\n",
       "        text-align: right;\n",
       "    }\n",
       "</style>\n",
       "<table border=\"1\" class=\"dataframe\">\n",
       "  <thead>\n",
       "    <tr style=\"text-align: right;\">\n",
       "      <th></th>\n",
       "      <th>Close</th>\n",
       "    </tr>\n",
       "    <tr>\n",
       "      <th>Date</th>\n",
       "      <th></th>\n",
       "    </tr>\n",
       "  </thead>\n",
       "  <tbody>\n",
       "    <tr>\n",
       "      <th>2024-07-29</th>\n",
       "      <td>171.130005</td>\n",
       "    </tr>\n",
       "    <tr>\n",
       "      <th>2024-07-30</th>\n",
       "      <td>171.860001</td>\n",
       "    </tr>\n",
       "    <tr>\n",
       "      <th>2024-07-31</th>\n",
       "      <td>173.149994</td>\n",
       "    </tr>\n",
       "    <tr>\n",
       "      <th>2024-08-01</th>\n",
       "      <td>172.449997</td>\n",
       "    </tr>\n",
       "    <tr>\n",
       "      <th>2024-08-02</th>\n",
       "      <td>168.399994</td>\n",
       "    </tr>\n",
       "    <tr>\n",
       "      <th>2024-08-05</th>\n",
       "      <td>160.639999</td>\n",
       "    </tr>\n",
       "    <tr>\n",
       "      <th>2024-08-06</th>\n",
       "      <td>160.539993</td>\n",
       "    </tr>\n",
       "    <tr>\n",
       "      <th>2024-08-07</th>\n",
       "      <td>160.750000</td>\n",
       "    </tr>\n",
       "    <tr>\n",
       "      <th>2024-08-08</th>\n",
       "      <td>163.839996</td>\n",
       "    </tr>\n",
       "    <tr>\n",
       "      <th>2024-08-09</th>\n",
       "      <td>165.389999</td>\n",
       "    </tr>\n",
       "  </tbody>\n",
       "</table>\n",
       "</div>"
      ],
      "text/plain": [
       "                 Close\n",
       "Date                  \n",
       "2024-07-29  171.130005\n",
       "2024-07-30  171.860001\n",
       "2024-07-31  173.149994\n",
       "2024-08-01  172.449997\n",
       "2024-08-02  168.399994\n",
       "2024-08-05  160.639999\n",
       "2024-08-06  160.539993\n",
       "2024-08-07  160.750000\n",
       "2024-08-08  163.839996\n",
       "2024-08-09  165.389999"
      ]
     },
     "execution_count": 20,
     "metadata": {},
     "output_type": "execute_result"
    }
   ],
   "source": [
    "# Fetching recent data through Yahoo Finance API\n",
    "\n",
    "def fetch_recent_data(ticker, lookback_period):\n",
    "    end_date = datetime.now().date()\n",
    "    start_date = end_date - timedelta(days=lookback_period + 10)\n",
    "\n",
    "    recent_data = yf.download(ticker, start=start_date, end=end_date)[['Close']]\n",
    "    return recent_data\n",
    "\n",
    "\n",
    "ticker = \"GOOG\"\n",
    "lookback_period = 5\n",
    "recent_data = fetch_recent_data(ticker, lookback_period)\n",
    "recent_data"
   ]
  },
  {
   "cell_type": "code",
   "execution_count": 21,
   "id": "5b5e9600-bd03-45d7-a167-ed1588f33c5f",
   "metadata": {},
   "outputs": [],
   "source": [
    "def predict_stock_price(model, recent_data, scaler, lookback_period=60):\n",
    "    # Convert to numpy array\n",
    "    if isinstance(recent_data, pd.DataFrame):\n",
    "        recent_data = recent_data.values\n",
    "    \n",
    "    # Scale recent data\n",
    "    recent_data_scaled = scaler.transform(recent_data.reshape(-1, 1))\n",
    "    \n",
    "    # Padding\n",
    "    if len(recent_data_scaled) < lookback_period:\n",
    "        padding = np.full((lookback_period - len(recent_data_scaled), 1), recent_data_scaled[0])\n",
    "        recent_data_scaled = np.concatenate((padding, recent_data_scaled), axis=0)\n",
    "    \n",
    "    # Reshape recent data\n",
    "    X = recent_data_scaled.reshape((1, lookback_period, 1))\n",
    "    \n",
    "    # Make prediction\n",
    "    if hasattr(model, 'predict'):\n",
    "        prediction_scaled = model.predict(X).flatten()\n",
    "    else:\n",
    "        raise TypeError(\"Model must have a 'predict' method.\")\n",
    "    \n",
    "    # Transform  prediction to original scale\n",
    "    predicted_price = scaler.inverse_transform(prediction_scaled.reshape(-1, 1)).flatten()[0]\n",
    "    \n",
    "    return predicted_price\n"
   ]
  },
  {
   "cell_type": "code",
   "execution_count": 22,
   "id": "46542fae-f6ae-461d-bf4c-69eda60a2f08",
   "metadata": {},
   "outputs": [
    {
     "name": "stdout",
     "output_type": "stream",
     "text": [
      "\u001b[1m1/1\u001b[0m \u001b[32m━━━━━━━━━━━━━━━━━━━━\u001b[0m\u001b[37m\u001b[0m \u001b[1m0s\u001b[0m 12ms/step\n",
      "Stock Price Prediction: $161.95\n"
     ]
    }
   ],
   "source": [
    "predicted_price = (predict_stock_price(model, recent_data, scaler))\n",
    "print(f'Stock Price Prediction: ${predicted_price:.2f}')"
   ]
  },
  {
   "cell_type": "code",
   "execution_count": null,
   "id": "a57cc277-12ef-44fd-b274-dc7114513d4f",
   "metadata": {},
   "outputs": [],
   "source": []
  }
 ],
 "metadata": {
  "kernelspec": {
   "display_name": "Python 3 (ipykernel)",
   "language": "python",
   "name": "python3"
  },
  "language_info": {
   "codemirror_mode": {
    "name": "ipython",
    "version": 3
   },
   "file_extension": ".py",
   "mimetype": "text/x-python",
   "name": "python",
   "nbconvert_exporter": "python",
   "pygments_lexer": "ipython3",
   "version": "3.12.0"
  }
 },
 "nbformat": 4,
 "nbformat_minor": 5
}
